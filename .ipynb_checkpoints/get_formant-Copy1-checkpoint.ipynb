{
 "cells": [
  {
   "cell_type": "markdown",
   "metadata": {},
   "source": [
    "## Environment\n",
    "\n",
    "2020.07 colab Environment based.\n",
    "\n",
    "Ubuntu 18.04.3 LTS<br>\n",
    "Python version 3.6.9<br>\n",
    "pandas version 1.0.5<br>\n",
    "praat-parselmouth 0.3.3<br>"
   ]
  },
  {
   "cell_type": "markdown",
   "metadata": {},
   "source": [
    "### Install praat-parselmouth"
   ]
  },
  {
   "cell_type": "code",
   "execution_count": null,
   "metadata": {
    "colab": {
     "base_uri": "https://localhost:8080/",
     "height": 139
    },
    "colab_type": "code",
    "executionInfo": {
     "elapsed": 8236,
     "status": "ok",
     "timestamp": 1593138062229,
     "user": {
      "displayName": "성균관대이동건",
      "photoUrl": "",
      "userId": "01325739424861297145"
     },
     "user_tz": -540
    },
    "id": "egYudDwg6mgO",
    "outputId": "979b8378-be2e-4ddc-ffc5-119cebbb8a2d",
    "scrolled": true
   },
   "outputs": [
    {
     "name": "stdout",
     "output_type": "stream",
     "text": [
      "Collecting praat-parselmouth\n",
      "\u001b[?25l  Downloading https://files.pythonhosted.org/packages/09/7b/9fa1172a63b6277603d27bb5613559b5a8888f58e68c1698017b87b0061d/praat_parselmouth-0.3.3-cp36-cp36m-manylinux1_x86_64.whl (9.0MB)\n",
      "\u001b[K     |████████████████████████████████| 9.0MB 2.7MB/s \n",
      "\u001b[?25hRequirement already satisfied: numpy>=1.7.0 in /usr/local/lib/python3.6/dist-packages (from praat-parselmouth) (1.18.5)\n",
      "Installing collected packages: praat-parselmouth\n",
      "Successfully installed praat-parselmouth-0.3.3\n"
     ]
    }
   ],
   "source": [
    "!pip install praat-parselmouth"
   ]
  },
  {
   "cell_type": "code",
   "execution_count": null,
   "metadata": {
    "colab": {},
    "colab_type": "code",
    "id": "7rKmsBH_6Wkx"
   },
   "outputs": [],
   "source": [
    "import glob\n",
    "import parselmouth\n",
    "import pandas as pd\n",
    "import os"
   ]
  },
  {
   "cell_type": "markdown",
   "metadata": {},
   "source": [
    "### Get File directory (colab example)"
   ]
  },
  {
   "cell_type": "code",
   "execution_count": null,
   "metadata": {
    "colab": {
     "base_uri": "https://localhost:8080/",
     "height": 122
    },
    "colab_type": "code",
    "executionInfo": {
     "elapsed": 18334,
     "status": "ok",
     "timestamp": 1593138048086,
     "user": {
      "displayName": "성균관대이동건",
      "photoUrl": "",
      "userId": "01325739424861297145"
     },
     "user_tz": -540
    },
    "id": "M_V_5AgrM7ov",
    "outputId": "aa598b94-191c-4adf-cfc3-35979f2532dd"
   },
   "outputs": [
    {
     "name": "stdout",
     "output_type": "stream",
     "text": [
      "Go to this URL in a browser: https://accounts.google.com/o/oauth2/auth?client_id=947318989803-6bn6qk8qdgf4n4g3pfee6491hc0brc4i.apps.googleusercontent.com&redirect_uri=urn%3aietf%3awg%3aoauth%3a2.0%3aoob&response_type=code&scope=email%20https%3a%2f%2fwww.googleapis.com%2fauth%2fdocs.test%20https%3a%2f%2fwww.googleapis.com%2fauth%2fdrive%20https%3a%2f%2fwww.googleapis.com%2fauth%2fdrive.photos.readonly%20https%3a%2f%2fwww.googleapis.com%2fauth%2fpeopleapi.readonly\n",
      "\n",
      "Enter your authorization code:\n",
      "··········\n",
      "Mounted at /content/drive\n"
     ]
    }
   ],
   "source": [
    "from google.colab import drive\n",
    "drive.mount('/content/drive')"
   ]
  },
  {
   "cell_type": "code",
   "execution_count": null,
   "metadata": {
    "colab": {
     "base_uri": "https://localhost:8080/",
     "height": 34
    },
    "colab_type": "code",
    "executionInfo": {
     "elapsed": 3193,
     "status": "ok",
     "timestamp": 1593093203034,
     "user": {
      "displayName": "성균관대이동건",
      "photoUrl": "",
      "userId": "01325739424861297145"
     },
     "user_tz": -540
    },
    "id": "-hNQ5iKN6dkA",
    "outputId": "c34fd3b8-ed6b-476a-ce7c-06b21933a071"
   },
   "outputs": [
    {
     "data": {
      "text/plain": [
       "877"
      ]
     },
     "execution_count": 10,
     "metadata": {
      "tags": []
     },
     "output_type": "execute_result"
    }
   ],
   "source": [
    "# 현재 디렉토리/sound 폴더 안에 .wav 파일이 존재함. 파일 총 개수 877개\n",
    "len(glob.glob(os.getcwd()+'/sound/*.wav'))"
   ]
  },
  {
   "cell_type": "code",
   "execution_count": null,
   "metadata": {
    "colab": {
     "base_uri": "https://localhost:8080/",
     "height": 187
    },
    "colab_type": "code",
    "executionInfo": {
     "elapsed": 716,
     "status": "ok",
     "timestamp": 1593093203818,
     "user": {
      "displayName": "성균관대이동건",
      "photoUrl": "",
      "userId": "01325739424861297145"
     },
     "user_tz": -540
    },
    "id": "LKjKTS3p-3we",
    "outputId": "3c5430c3-9407-4ce8-82ea-4e3c054d2553"
   },
   "outputs": [
    {
     "data": {
      "text/plain": [
       "['/content/drive/My Drive/성대계정/sound/0.wav',\n",
       " '/content/drive/My Drive/성대계정/sound/1.wav',\n",
       " '/content/drive/My Drive/성대계정/sound/2.wav',\n",
       " '/content/drive/My Drive/성대계정/sound/3.wav',\n",
       " '/content/drive/My Drive/성대계정/sound/4.wav',\n",
       " '/content/drive/My Drive/성대계정/sound/5.wav',\n",
       " '/content/drive/My Drive/성대계정/sound/6.wav',\n",
       " '/content/drive/My Drive/성대계정/sound/7.wav',\n",
       " '/content/drive/My Drive/성대계정/sound/8.wav',\n",
       " '/content/drive/My Drive/성대계정/sound/9.wav']"
      ]
     },
     "execution_count": 11,
     "metadata": {
      "tags": []
     },
     "output_type": "execute_result"
    }
   ],
   "source": [
    "# 해당 디렉토리의 파일명을 리스트로 저장.\n",
    "lists = glob.glob(os.getcwd()+'/sound/*.wav')\n",
    "lists.sort(key = lambda x: (len(x), x))\n",
    "lists[:10]"
   ]
  },
  {
   "cell_type": "code",
   "execution_count": null,
   "metadata": {
    "colab": {},
    "colab_type": "code",
    "id": "8PQqISIH_KAC"
   },
   "outputs": [],
   "source": [
    "# 결과를 저장할 디렉토리\n",
    "path = os.getcwd()+'/sound/'"
   ]
  },
  {
   "cell_type": "code",
   "execution_count": null,
   "metadata": {},
   "outputs": [],
   "source": [
    "# 실패한 파일이름을 저장하는 리스트\n",
    "failed_list = []\n",
    "\n",
    "# pitch / formant 값을 저장할 데이터프레임\n",
    "data = pd.DataFrame({\n",
    "    \"times\":[],\n",
    "    \"F0(pitch)\":[],\n",
    "    \"F1\":[],\n",
    "    \"F2\":[],\n",
    "    'F3':[],\n",
    "    \"F4\":[],\n",
    "    \"F5\":[],\n",
    "    \"filename\":[]\n",
    "    })\n",
    "\n",
    "# Formant 1 ~ 5까지 값을 구하기 위한 parameter\n",
    "formants_value = ['F1','F2',\"F3\",\"F4\",\"F5\"]\n",
    "\n",
    "# 각각의 음원파일을 for문으로 수행\n",
    "for iters, soundpath in enumerate(lists, 1):\n",
    "    try:\n",
    "        # .wav 파일을 분석 가능한 Sound객체로 변환\n",
    "        Sound = parselmouth.Sound(soundpath)\n",
    "\n",
    "        # 0.1초 단위로 Formant를 계산한 객체\n",
    "        formant = Sound.to_formant_burg(time_step = 0.1)\n",
    "        \n",
    "        # F0(pitch) 값 계산한 객체\n",
    "        pitch = Sound.to_pitch()\n",
    "        \n",
    "        # Formant에서 사용한 0.1초 단위 timestamp를 dataframe으로 저장\n",
    "        df = pd.DataFrame({\"times\":formant.ts()})\n",
    "        \n",
    "        # Formant Timestamp(0.1초 단위) 별 F1 ~ F5값 연산\n",
    "        for idx, col in enumerate(formants_value, 1):\n",
    "            df[col] = df['times'].map(lambda x: formant.get_value_at_time(formant_number = idx, time = x))\n",
    "        \n",
    "        # Formant Timestamp 별 Pitch값 계산\n",
    "        df['F0(pitch)'] = df['times'].map(lambda x: pitch.get_value_at_time(time = x))\n",
    "        \n",
    "        # 파일명 저장\n",
    "        df['filename'] = soundpath.split(path)[-1]\n",
    "        \n",
    "        # dataframe 업데이트\n",
    "        data = data.append(df)\n",
    "        \n",
    "        # 진행상황 확인을 위한 로그\n",
    "        if iters % 10 == 0:\n",
    "            print(\"success: \", soundpath.split(path)[-1])\n",
    "        \n",
    "        # iteration 100 단위로 지금까지 실행한 음원데이터를 csv로 저장\n",
    "        # colab의 런타임이 길지 않기 때문에, 지금까지 실행한 결과가 서버에서 지워질 수 있기 때문.\n",
    "        if iters % 100 == 0:\n",
    "            print(data)\n",
    "            data.to_csv(str(iters) + \".csv\")\n",
    "        \n",
    "    except Exception as e:\n",
    "        # Exception 원인 출력\n",
    "        print(e)\n",
    "        # 실패한 파일 이름 저장\n",
    "        failed_list.append(soundpath.split(path)[-1])\n",
    "        # 어떤 파일에 문제가 있는지 확인\n",
    "        print(\"fail: \", soundpath.split(path)[-1])\n",
    "\n",
    "# 모든 작업이 끝나면, 최종 데이터를 finish.csv라는 이름으로 저장\n",
    "data.to_csv('finish.csv')"
   ]
  },
  {
   "cell_type": "code",
   "execution_count": null,
   "metadata": {
    "colab": {
     "base_uri": "https://localhost:8080/",
     "height": 419
    },
    "colab_type": "code",
    "executionInfo": {
     "elapsed": 772,
     "status": "ok",
     "timestamp": 1593094350615,
     "user": {
      "displayName": "성균관대이동건",
      "photoUrl": "",
      "userId": "01325739424861297145"
     },
     "user_tz": -540
    },
    "id": "8StNqAOiwsqG",
    "outputId": "df775754-914c-479d-ff36-e938c44c5d09"
   },
   "outputs": [
    {
     "data": {
      "text/html": [
       "<div>\n",
       "<style scoped>\n",
       "    .dataframe tbody tr th:only-of-type {\n",
       "        vertical-align: middle;\n",
       "    }\n",
       "\n",
       "    .dataframe tbody tr th {\n",
       "        vertical-align: top;\n",
       "    }\n",
       "\n",
       "    .dataframe thead th {\n",
       "        text-align: right;\n",
       "    }\n",
       "</style>\n",
       "<table border=\"1\" class=\"dataframe\">\n",
       "  <thead>\n",
       "    <tr style=\"text-align: right;\">\n",
       "      <th></th>\n",
       "      <th>times</th>\n",
       "      <th>F0(pitch)</th>\n",
       "      <th>F1</th>\n",
       "      <th>F2</th>\n",
       "      <th>F3</th>\n",
       "      <th>F4</th>\n",
       "      <th>F5</th>\n",
       "      <th>filename</th>\n",
       "    </tr>\n",
       "  </thead>\n",
       "  <tbody>\n",
       "    <tr>\n",
       "      <th>0</th>\n",
       "      <td>0.060</td>\n",
       "      <td>NaN</td>\n",
       "      <td>668.956919</td>\n",
       "      <td>1573.228732</td>\n",
       "      <td>2716.867429</td>\n",
       "      <td>3584.648268</td>\n",
       "      <td>NaN</td>\n",
       "      <td>21.wav</td>\n",
       "    </tr>\n",
       "    <tr>\n",
       "      <th>1</th>\n",
       "      <td>0.160</td>\n",
       "      <td>235.742471</td>\n",
       "      <td>481.937873</td>\n",
       "      <td>2317.762229</td>\n",
       "      <td>3289.896208</td>\n",
       "      <td>3725.789058</td>\n",
       "      <td>NaN</td>\n",
       "      <td>21.wav</td>\n",
       "    </tr>\n",
       "    <tr>\n",
       "      <th>2</th>\n",
       "      <td>0.260</td>\n",
       "      <td>200.052051</td>\n",
       "      <td>509.083329</td>\n",
       "      <td>1341.888272</td>\n",
       "      <td>1567.194317</td>\n",
       "      <td>3386.816847</td>\n",
       "      <td>3905.968303</td>\n",
       "      <td>21.wav</td>\n",
       "    </tr>\n",
       "    <tr>\n",
       "      <th>3</th>\n",
       "      <td>0.360</td>\n",
       "      <td>191.497127</td>\n",
       "      <td>721.980693</td>\n",
       "      <td>1718.222394</td>\n",
       "      <td>3060.782565</td>\n",
       "      <td>3561.439324</td>\n",
       "      <td>NaN</td>\n",
       "      <td>21.wav</td>\n",
       "    </tr>\n",
       "    <tr>\n",
       "      <th>4</th>\n",
       "      <td>0.460</td>\n",
       "      <td>192.958886</td>\n",
       "      <td>413.574857</td>\n",
       "      <td>1452.808235</td>\n",
       "      <td>2201.513314</td>\n",
       "      <td>3574.820304</td>\n",
       "      <td>4006.706467</td>\n",
       "      <td>21.wav</td>\n",
       "    </tr>\n",
       "    <tr>\n",
       "      <th>...</th>\n",
       "      <td>...</td>\n",
       "      <td>...</td>\n",
       "      <td>...</td>\n",
       "      <td>...</td>\n",
       "      <td>...</td>\n",
       "      <td>...</td>\n",
       "      <td>...</td>\n",
       "      <td>...</td>\n",
       "    </tr>\n",
       "    <tr>\n",
       "      <th>1297</th>\n",
       "      <td>129.735</td>\n",
       "      <td>NaN</td>\n",
       "      <td>724.083957</td>\n",
       "      <td>2025.094259</td>\n",
       "      <td>2964.735146</td>\n",
       "      <td>5449.009564</td>\n",
       "      <td>NaN</td>\n",
       "      <td>22.wav</td>\n",
       "    </tr>\n",
       "    <tr>\n",
       "      <th>1298</th>\n",
       "      <td>129.835</td>\n",
       "      <td>NaN</td>\n",
       "      <td>1499.099465</td>\n",
       "      <td>2490.380936</td>\n",
       "      <td>5437.141035</td>\n",
       "      <td>NaN</td>\n",
       "      <td>NaN</td>\n",
       "      <td>22.wav</td>\n",
       "    </tr>\n",
       "    <tr>\n",
       "      <th>1299</th>\n",
       "      <td>129.935</td>\n",
       "      <td>NaN</td>\n",
       "      <td>1499.100308</td>\n",
       "      <td>2490.410592</td>\n",
       "      <td>5437.140847</td>\n",
       "      <td>NaN</td>\n",
       "      <td>NaN</td>\n",
       "      <td>22.wav</td>\n",
       "    </tr>\n",
       "    <tr>\n",
       "      <th>1300</th>\n",
       "      <td>130.035</td>\n",
       "      <td>NaN</td>\n",
       "      <td>1499.100445</td>\n",
       "      <td>2490.441877</td>\n",
       "      <td>5437.140680</td>\n",
       "      <td>NaN</td>\n",
       "      <td>NaN</td>\n",
       "      <td>22.wav</td>\n",
       "    </tr>\n",
       "    <tr>\n",
       "      <th>1301</th>\n",
       "      <td>130.135</td>\n",
       "      <td>NaN</td>\n",
       "      <td>1499.101241</td>\n",
       "      <td>2490.484445</td>\n",
       "      <td>5437.140548</td>\n",
       "      <td>NaN</td>\n",
       "      <td>NaN</td>\n",
       "      <td>22.wav</td>\n",
       "    </tr>\n",
       "  </tbody>\n",
       "</table>\n",
       "<p>4869 rows × 8 columns</p>\n",
       "</div>"
      ],
      "text/plain": [
       "        times   F0(pitch)           F1  ...           F4           F5  filename\n",
       "0       0.060         NaN   668.956919  ...  3584.648268          NaN    21.wav\n",
       "1       0.160  235.742471   481.937873  ...  3725.789058          NaN    21.wav\n",
       "2       0.260  200.052051   509.083329  ...  3386.816847  3905.968303    21.wav\n",
       "3       0.360  191.497127   721.980693  ...  3561.439324          NaN    21.wav\n",
       "4       0.460  192.958886   413.574857  ...  3574.820304  4006.706467    21.wav\n",
       "...       ...         ...          ...  ...          ...          ...       ...\n",
       "1297  129.735         NaN   724.083957  ...  5449.009564          NaN    22.wav\n",
       "1298  129.835         NaN  1499.099465  ...          NaN          NaN    22.wav\n",
       "1299  129.935         NaN  1499.100308  ...          NaN          NaN    22.wav\n",
       "1300  130.035         NaN  1499.100445  ...          NaN          NaN    22.wav\n",
       "1301  130.135         NaN  1499.101241  ...          NaN          NaN    22.wav\n",
       "\n",
       "[4869 rows x 8 columns]"
      ]
     },
     "execution_count": 21,
     "metadata": {
      "tags": []
     },
     "output_type": "execute_result"
    }
   ],
   "source": [
    "data\n",
    "# pitch.get_value_at_time(time = 0.01)"
   ]
  },
  {
   "cell_type": "code",
   "execution_count": null,
   "metadata": {
    "colab": {},
    "colab_type": "code",
    "id": "9siuD1S5_96l"
   },
   "outputs": [],
   "source": [
    "# 실패했던 파일을 json 형식 파일로 저장.\n",
    "import json\n",
    "with open('failed_file.json', 'w') as f:\n",
    "    json.dump(failed_list, f, indent = 4)"
   ]
  }
 ],
 "metadata": {
  "colab": {
   "collapsed_sections": [],
   "name": "get_formant.ipynb",
   "provenance": []
  },
  "kernelspec": {
   "display_name": "Python 3",
   "language": "python",
   "name": "python3"
  },
  "language_info": {
   "codemirror_mode": {
    "name": "ipython",
    "version": 3
   },
   "file_extension": ".py",
   "mimetype": "text/x-python",
   "name": "python",
   "nbconvert_exporter": "python",
   "pygments_lexer": "ipython3",
   "version": "3.7.1"
  }
 },
 "nbformat": 4,
 "nbformat_minor": 1
}
